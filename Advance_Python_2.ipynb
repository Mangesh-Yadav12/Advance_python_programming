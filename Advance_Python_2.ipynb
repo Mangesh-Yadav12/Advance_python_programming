{
 "cells": [
  {
   "cell_type": "markdown",
   "id": "8af6cf5b",
   "metadata": {},
   "source": [
    "## 1.Write a Python program to convert kilometers to miles?"
   ]
  },
  {
   "cell_type": "code",
   "execution_count": 1,
   "id": "40d2f9cd",
   "metadata": {},
   "outputs": [
    {
     "name": "stdout",
     "output_type": "stream",
     "text": [
      "Enter the kilometers: 1\n",
      "1.00 kilometers is equal to 0.62 miles\n"
     ]
    }
   ],
   "source": [
    "# Get the kilometers from the user\n",
    "kilometers = float(input(\"Enter the kilometers: \"))\n",
    "\n",
    "# 1 kilometer = 0.621 miles\n",
    "conversion_factor = 0.621\n",
    "\n",
    "# Convert kilometers to miles\n",
    "miles = kilometers * conversion_factor\n",
    "\n",
    "# Display the result\n",
    "print(\"{:.2f} kilometers is equal to {:.2f} miles\".format(kilometers, miles))\n"
   ]
  },
  {
   "cell_type": "markdown",
   "id": "19c7e29f",
   "metadata": {},
   "source": [
    "## 2.Write a Python program to convert Celsius to Fahrenheit?"
   ]
  },
  {
   "cell_type": "code",
   "execution_count": 7,
   "id": "8f716cfa",
   "metadata": {},
   "outputs": [
    {
     "name": "stdout",
     "output_type": "stream",
     "text": [
      "Enter a temperature in celsius: 45\n",
      "Temperature: 113.0 Fahrenheit\n"
     ]
    }
   ],
   "source": [
    "# Get the celsius from user\n",
    "celsius = int(input(\"Enter a temperature in celsius: \"))\n",
    "\n",
    "#Convert celsius into fahrenheit\n",
    "Fahrenheit = 9.0/5.0 * celsius + 32\n",
    "\n",
    "#Display the result\n",
    "print(\"Temperature:\", Fahrenheit, \"Fahrenheit\")"
   ]
  },
  {
   "cell_type": "markdown",
   "id": "ae760cf6",
   "metadata": {},
   "source": [
    "## 3.Write a Python program to display calendar?"
   ]
  },
  {
   "cell_type": "code",
   "execution_count": 1,
   "id": "056e9d4a",
   "metadata": {},
   "outputs": [
    {
     "name": "stdout",
     "output_type": "stream",
     "text": [
      "Enter Year: 2021\n",
      "Enter month: 9\n",
      "   September 2021\n",
      "Mo Tu We Th Fr Sa Su\n",
      "       1  2  3  4  5\n",
      " 6  7  8  9 10 11 12\n",
      "13 14 15 16 17 18 19\n",
      "20 21 22 23 24 25 26\n",
      "27 28 29 30\n",
      "\n"
     ]
    }
   ],
   "source": [
    "# Importing the calendar module\n",
    "import calendar\n",
    "\n",
    "# Get the year and month from user\n",
    "year = int(input(\"Enter Year: \"))\n",
    "month = int(input(\"Enter month: \"))\n",
    "\n",
    "# display the calender\n",
    "print(calendar.month(year, month))"
   ]
  },
  {
   "cell_type": "markdown",
   "id": "d01cce00",
   "metadata": {},
   "source": [
    "## 4.Write a Python program to solve quadratic equation?"
   ]
  },
  {
   "cell_type": "code",
   "execution_count": 2,
   "id": "0314ea25",
   "metadata": {},
   "outputs": [
    {
     "name": "stdout",
     "output_type": "stream",
     "text": [
      "The solution are (-3+0j) and (-2+0j)\n"
     ]
    }
   ],
   "source": [
    "# import complex math module\n",
    "import cmath\n",
    "\n",
    "a = 1\n",
    "b = 5\n",
    "c = 6\n",
    "\n",
    "#calculate the discriminant\n",
    "d = (b**2) - (4*a*c)\n",
    "\n",
    "# find two solutions\n",
    "sol1 = (-b-cmath.sqrt(d))/(2*a)\n",
    "sol2 = (-b+cmath.sqrt(d))/(2*a)\n",
    "\n",
    "print('The solution are {0} and {1}'.format(sol1,sol2))"
   ]
  },
  {
   "cell_type": "markdown",
   "id": "c1f31581",
   "metadata": {},
   "source": [
    "## 5. Write a Python program to swap two variables without temp variable?"
   ]
  },
  {
   "cell_type": "code",
   "execution_count": 5,
   "id": "47ec810e",
   "metadata": {},
   "outputs": [
    {
     "name": "stdout",
     "output_type": "stream",
     "text": [
      "The value of x after swapping: 10\n",
      "The value of y after swapping: 5\n"
     ]
    }
   ],
   "source": [
    "x = 5\n",
    "y = 10\n",
    "\n",
    "x,y = y,x\n",
    "\n",
    "print('The value of x after swapping: {}'.format(x))\n",
    "print('The value of y after swapping: {}'.format(y))"
   ]
  },
  {
   "cell_type": "code",
   "execution_count": null,
   "id": "aeefa21b",
   "metadata": {},
   "outputs": [],
   "source": []
  }
 ],
 "metadata": {
  "kernelspec": {
   "display_name": "Python 3 (ipykernel)",
   "language": "python",
   "name": "python3"
  },
  "language_info": {
   "codemirror_mode": {
    "name": "ipython",
    "version": 3
   },
   "file_extension": ".py",
   "mimetype": "text/x-python",
   "name": "python",
   "nbconvert_exporter": "python",
   "pygments_lexer": "ipython3",
   "version": "3.9.12"
  }
 },
 "nbformat": 4,
 "nbformat_minor": 5
}
