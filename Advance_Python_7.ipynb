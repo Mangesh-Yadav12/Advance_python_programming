{
 "cells": [
  {
   "cell_type": "markdown",
   "id": "c0f1ddeb",
   "metadata": {},
   "source": [
    "## 1.Write a Python Program to find sum of array?"
   ]
  },
  {
   "cell_type": "code",
   "execution_count": 3,
   "id": "1f8f713d",
   "metadata": {},
   "outputs": [
    {
     "name": "stdout",
     "output_type": "stream",
     "text": [
      "Sum of array is 141\n"
     ]
    }
   ],
   "source": [
    "def sum_(arr):\n",
    "    sum = 0\n",
    "    for i in arr:\n",
    "        sum = sum + i\n",
    "    return(sum)\n",
    "\n",
    "if __name__ == \"__main__\":\n",
    "    arr = [12, 45, 6, 78]\n",
    "    n = len(arr)\n",
    "    ans = sum_(arr)\n",
    "    print(\"Sum of array is\", ans)"
   ]
  },
  {
   "cell_type": "markdown",
   "id": "7619da01",
   "metadata": {},
   "source": [
    "## 2.Write a Python Program to find largest element in an array?"
   ]
  },
  {
   "cell_type": "code",
   "execution_count": 5,
   "id": "96c663eb",
   "metadata": {},
   "outputs": [
    {
     "name": "stdout",
     "output_type": "stream",
     "text": [
      "Largest num of array is: 1548\n"
     ]
    }
   ],
   "source": [
    "def largestNum(arr, n):\n",
    "    max = arr[0]\n",
    "    for i in range(1,n):\n",
    "        if arr[i] > max:\n",
    "            max = arr[i]\n",
    "    return max\n",
    "\n",
    "arr = [10, 25, 456, 789, 1548]\n",
    "n = len(arr)\n",
    "ans = largestNum(arr, n)\n",
    "print(\"Largest num of array is:\", ans)"
   ]
  },
  {
   "cell_type": "markdown",
   "id": "517781d4",
   "metadata": {},
   "source": [
    "## 3.Write a Python Program for array rotation?"
   ]
  },
  {
   "cell_type": "code",
   "execution_count": 7,
   "id": "700cee67",
   "metadata": {},
   "outputs": [
    {
     "name": "stdout",
     "output_type": "stream",
     "text": [
      "Array after left rotation is: [3, 4, 5, 7, 8, 9, 1, 2]\n"
     ]
    }
   ],
   "source": [
    "def rotate_array(a,d):\n",
    "    temp = []\n",
    "    n = len(a)\n",
    "    for i in range(d,n):\n",
    "        temp.append(a[i])\n",
    "    i = 0\n",
    "    for i in range(0,d):\n",
    "        temp.append(a[i])\n",
    "    a = temp.copy()\n",
    "    return a\n",
    "arr = [1,2,3,4,5,7,8,9]\n",
    "print(\"Array after left rotation is:\",end=\" \")\n",
    "print(rotate_array(arr,2))"
   ]
  },
  {
   "cell_type": "markdown",
   "id": "91e05992",
   "metadata": {},
   "source": [
    "## 4.Write a Python Program to Split the array and add the first part to the end?"
   ]
  },
  {
   "cell_type": "code",
   "execution_count": 8,
   "id": "093cb600",
   "metadata": {},
   "outputs": [
    {
     "name": "stdout",
     "output_type": "stream",
     "text": [
      "4 5 6 1 2 3 "
     ]
    }
   ],
   "source": [
    "def splitArray(arr,n,k):\n",
    "    for i in range(0,k):\n",
    "        x =arr[0]\n",
    "        for j in range(0, n-1):\n",
    "            arr[j] = arr[j + 1]\n",
    "            \n",
    "        arr[n - 1] = x\n",
    "\n",
    "arr = [1,2,3,4,5,6]\n",
    "n = len(arr)\n",
    "position = 3 \n",
    "splitArray(arr,n,position)\n",
    "for i in range(0,n):\n",
    "    print(arr[i],end=\" \")"
   ]
  },
  {
   "cell_type": "markdown",
   "id": "dbec7821",
   "metadata": {},
   "source": [
    "## 5.Write a Python Program to check if given array is Monotonic?"
   ]
  },
  {
   "cell_type": "code",
   "execution_count": 19,
   "id": "4fe62259",
   "metadata": {},
   "outputs": [
    {
     "name": "stdout",
     "output_type": "stream",
     "text": [
      "False\n",
      "False\n",
      "True\n",
      "True\n"
     ]
    }
   ],
   "source": [
    "def isMonotone(a):\n",
    "    n=len(a)\n",
    "    if n == 1:\n",
    "        return True\n",
    "    else:\n",
    "        if all(a[i]>=a[i+1] for i in range(0,n - 1) or a[i]<= a[i + 1] for i in range(0, n - 1)):\n",
    "            return True\n",
    "        else:\n",
    "            return False\n",
    "A = [5,6,4,2]\n",
    "print(isMonotone(A))\n",
    "B = [1,2,3,4]\n",
    "print(isMonotone(B))\n",
    "C = [6,5,4,2]\n",
    "print(isMonotone(C))\n",
    "D = [1]\n",
    "print(isMonotone(D))"
   ]
  },
  {
   "cell_type": "code",
   "execution_count": null,
   "id": "3876b7e5",
   "metadata": {},
   "outputs": [],
   "source": []
  }
 ],
 "metadata": {
  "kernelspec": {
   "display_name": "Python 3 (ipykernel)",
   "language": "python",
   "name": "python3"
  },
  "language_info": {
   "codemirror_mode": {
    "name": "ipython",
    "version": 3
   },
   "file_extension": ".py",
   "mimetype": "text/x-python",
   "name": "python",
   "nbconvert_exporter": "python",
   "pygments_lexer": "ipython3",
   "version": "3.9.12"
  }
 },
 "nbformat": 4,
 "nbformat_minor": 5
}
