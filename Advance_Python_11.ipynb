{
 "cells": [
  {
   "cell_type": "markdown",
   "id": "2e6e441a",
   "metadata": {},
   "source": [
    "## 1.Write a Python program to find words which are greater than given length k?"
   ]
  },
  {
   "cell_type": "code",
   "execution_count": 3,
   "id": "71770be9",
   "metadata": {},
   "outputs": [
    {
     "name": "stdout",
     "output_type": "stream",
     "text": [
      "['Ineuron', 'have', 'best', 'data', 'science', 'teachers']\n"
     ]
    }
   ],
   "source": [
    "def string_k(K, str):\n",
    "    string = []\n",
    "    text = str.split(\" \")\n",
    "    \n",
    "    for x in text:\n",
    "        if len(x) > K:\n",
    "            string.append(x)\n",
    "    return string\n",
    "\n",
    "K = 3\n",
    "str = \"Ineuron have best data science teachers\"\n",
    "print(string_k(K, str))"
   ]
  },
  {
   "cell_type": "markdown",
   "id": "8fe7c271",
   "metadata": {},
   "source": [
    "## 2.Write a Python program for removing i-th character from a string?"
   ]
  },
  {
   "cell_type": "code",
   "execution_count": 2,
   "id": "8fe58ada",
   "metadata": {},
   "outputs": [
    {
     "name": "stdout",
     "output_type": "stream",
     "text": [
      "Ineurnclasses\n"
     ]
    }
   ],
   "source": [
    "def remove(string, i):\n",
    "    a = string[: i]\n",
    "    b = string[ i + 1:]\n",
    "    return a + b\n",
    "\n",
    "if __name__ == '__main__':\n",
    "    string = 'Ineuronclasses'\n",
    "    i = 5\n",
    "    print(remove(string,i))"
   ]
  },
  {
   "cell_type": "markdown",
   "id": "81e95828",
   "metadata": {},
   "source": [
    "## 3.Write a Python program to split and join a string?"
   ]
  },
  {
   "cell_type": "code",
   "execution_count": 5,
   "id": "a8e730b7",
   "metadata": {},
   "outputs": [
    {
     "name": "stdout",
     "output_type": "stream",
     "text": [
      "['Ineuron', 'have', 'best', 'data', 'science', 'teachers']\n",
      "Ineuron-have-best-data-science-teachers\n"
     ]
    }
   ],
   "source": [
    "def split_string(string):\n",
    "    list_string = string.split(' ')\n",
    "    return list_string\n",
    "\n",
    "def join_string(list_string):\n",
    "    string = '-'.join(list_string)\n",
    "    return string\n",
    "\n",
    "if __name__ == '__main__':\n",
    "    string = 'Ineuron have best data science teachers'\n",
    "    \n",
    "    list_string = split_string(string)\n",
    "    print(list_string)\n",
    "    \n",
    "    new_string = join_string(list_string)\n",
    "    print(new_string)"
   ]
  },
  {
   "cell_type": "markdown",
   "id": "545debce",
   "metadata": {},
   "source": [
    "## 4.Write a Python to check if a given string is binary string or not?"
   ]
  },
  {
   "cell_type": "code",
   "execution_count": 6,
   "id": "15f02919",
   "metadata": {},
   "outputs": [
    {
     "name": "stdout",
     "output_type": "stream",
     "text": [
      "Yes\n"
     ]
    }
   ],
   "source": [
    "def check(string):\n",
    "    p = set(string)\n",
    "    s = {'0','1'}\n",
    "    if s == p or p == {'0'} or p == {'1'}:\n",
    "        print(\"Yes\")\n",
    "    else:\n",
    "        print(\"No\")\n",
    "        \n",
    "if __name__ == \"__main__\":\n",
    "    string = \"101010000111\"\n",
    "    \n",
    "    check(string)"
   ]
  },
  {
   "cell_type": "markdown",
   "id": "8dd0dd2e",
   "metadata": {},
   "source": [
    "## 5.Write a Python program to find uncommon words from two Strings?"
   ]
  },
  {
   "cell_type": "code",
   "execution_count": 8,
   "id": "c5a8858a",
   "metadata": {},
   "outputs": [
    {
     "name": "stdout",
     "output_type": "stream",
     "text": [
      "['learing', 'data', 'science', 'from']\n"
     ]
    }
   ],
   "source": [
    "def UncommonWords(A,B):\n",
    "    count = {}\n",
    "    \n",
    "    for word in A.split():\n",
    "        count[word] = count.get(word, 0) + 1\n",
    "        \n",
    "    for word in B.split():\n",
    "        count[word] = count.get(word, 0) + 1\n",
    "    return [word for word in count if count[word] == 1]\n",
    "\n",
    "A =\"Ineuron\"\n",
    "B = \"learing data science from Ineuron\"\n",
    "\n",
    "print(UncommonWords(A,B))"
   ]
  },
  {
   "cell_type": "markdown",
   "id": "8aa6acce",
   "metadata": {},
   "source": [
    "## 6.Write a Python to find all duplicate characters in string?"
   ]
  },
  {
   "cell_type": "code",
   "execution_count": 9,
   "id": "18ca6426",
   "metadata": {},
   "outputs": [
    {
     "name": "stdout",
     "output_type": "stream",
     "text": [
      "['a', 'v']\n"
     ]
    }
   ],
   "source": [
    "def duplicate_char(string):\n",
    "    chars = {}\n",
    "    \n",
    "    for char in string:\n",
    "        if char not in chars:\n",
    "            chars[char] = 1\n",
    "        else:\n",
    "            chars[char] += 1\n",
    "            \n",
    "    duplicates = []\n",
    "    \n",
    "    for char, count in chars.items():\n",
    "        if count > 1:\n",
    "            duplicates.append(char)\n",
    "            \n",
    "    return duplicates\n",
    "\n",
    "print(duplicate_char(\"MangeshYadavv\"))"
   ]
  },
  {
   "cell_type": "markdown",
   "id": "f49f7183",
   "metadata": {},
   "source": [
    "## 7.Write a Python Program to check if a string contains any special character?"
   ]
  },
  {
   "cell_type": "code",
   "execution_count": 12,
   "id": "6090e858",
   "metadata": {},
   "outputs": [
    {
     "name": "stdout",
     "output_type": "stream",
     "text": [
      "String is not accepted\n"
     ]
    }
   ],
   "source": [
    "import re\n",
    "\n",
    "def run(string):\n",
    "    regex = re.compile('[!@#$%^&*()_{:<>?]')\n",
    "    \n",
    "    if(regex.search(string) == None):\n",
    "        print(\"String is accepted\")\n",
    "        \n",
    "    else:\n",
    "        print(\"String is not accepted\")\n",
    "        \n",
    "if __name__ == '__main__':\n",
    "    string = \"I@n#eur%o&n\"\n",
    "    \n",
    "    run(string)"
   ]
  },
  {
   "cell_type": "code",
   "execution_count": null,
   "id": "c3ec7ea5",
   "metadata": {},
   "outputs": [],
   "source": []
  }
 ],
 "metadata": {
  "kernelspec": {
   "display_name": "Python 3 (ipykernel)",
   "language": "python",
   "name": "python3"
  },
  "language_info": {
   "codemirror_mode": {
    "name": "ipython",
    "version": 3
   },
   "file_extension": ".py",
   "mimetype": "text/x-python",
   "name": "python",
   "nbconvert_exporter": "python",
   "pygments_lexer": "ipython3",
   "version": "3.9.12"
  }
 },
 "nbformat": 4,
 "nbformat_minor": 5
}
