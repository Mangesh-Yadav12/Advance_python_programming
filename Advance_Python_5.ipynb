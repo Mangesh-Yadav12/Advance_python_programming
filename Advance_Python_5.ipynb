{
 "cells": [
  {
   "cell_type": "markdown",
   "id": "2e240cf5",
   "metadata": {},
   "source": [
    "## 1.Write a Python Program to Find LCM?"
   ]
  },
  {
   "cell_type": "code",
   "execution_count": 3,
   "id": "78af01e1",
   "metadata": {},
   "outputs": [
    {
     "name": "stdout",
     "output_type": "stream",
     "text": [
      "The LCM is: 216\n"
     ]
    }
   ],
   "source": [
    "def compute_lcm(x,y):\n",
    "    if x > y:\n",
    "        greater = x\n",
    "    else:\n",
    "        greater = y\n",
    "    \n",
    "    while(True):\n",
    "        if((greater % x == 0) and (greater % y == 0)):\n",
    "            lcm = greater\n",
    "            break\n",
    "        greater += 1\n",
    "        \n",
    "    return lcm\n",
    "\n",
    "num1 = 54\n",
    "num2 = 24\n",
    "\n",
    "print(\"The LCM is:\",compute_lcm(num1,num2))\n",
    "        "
   ]
  },
  {
   "cell_type": "markdown",
   "id": "e847907d",
   "metadata": {},
   "source": [
    "## 2.Write a Python Program to Find HCF?"
   ]
  },
  {
   "cell_type": "code",
   "execution_count": 10,
   "id": "0f67d3be",
   "metadata": {},
   "outputs": [
    {
     "name": "stdout",
     "output_type": "stream",
     "text": [
      "The HCF is: 6\n"
     ]
    }
   ],
   "source": [
    "def compute_hcf(x,y):\n",
    "    if x > y:\n",
    "        smaller = y\n",
    "    else:\n",
    "        smaller = x\n",
    "    \n",
    "    for i in range(1, smaller + 1):\n",
    "        if ((x % i == 0) and (y % i == 0)):\n",
    "            hcf = i\n",
    "    return hcf\n",
    "\n",
    "num1 = 54\n",
    "num2 = 24\n",
    "\n",
    "print(\"The HCF is:\",compute_hcf(num1,num2))"
   ]
  },
  {
   "cell_type": "markdown",
   "id": "d814040b",
   "metadata": {},
   "source": [
    "## 3.Write a Python Program to Convert Decimal to Binary, Octal and Hexadecimal?"
   ]
  },
  {
   "cell_type": "code",
   "execution_count": 11,
   "id": "bdf29b29",
   "metadata": {},
   "outputs": [
    {
     "name": "stdout",
     "output_type": "stream",
     "text": [
      "The decimal value of 344 is: \n",
      "0b101011000 in binary.\n",
      "0o530 in octal.\n",
      "0x158 in hexadecimal.\n"
     ]
    }
   ],
   "source": [
    "dec = 344\n",
    "print(\"The decimal value of\",dec,\"is: \")\n",
    "print(bin(dec),\"in binary.\")\n",
    "print(oct(dec),\"in octal.\")\n",
    "print(hex(dec),\"in hexadecimal.\")"
   ]
  },
  {
   "cell_type": "markdown",
   "id": "be470603",
   "metadata": {},
   "source": [
    "## 4.Write a Python Program To Find ASCII value of a character?"
   ]
  },
  {
   "cell_type": "code",
   "execution_count": 12,
   "id": "7d079b4b",
   "metadata": {},
   "outputs": [
    {
     "name": "stdout",
     "output_type": "stream",
     "text": [
      "The ASCII value of'p'is 112\n"
     ]
    }
   ],
   "source": [
    "c =\"p\"\n",
    "print(\"The ASCII value of'\"+ c +\"'is\",ord(c))"
   ]
  },
  {
   "cell_type": "markdown",
   "id": "f0c64a21",
   "metadata": {},
   "source": [
    "## 5.Write a Python Program to Make a Simple Calculator with 4 basic mathematical operations?"
   ]
  },
  {
   "cell_type": "code",
   "execution_count": 14,
   "id": "1509cf72",
   "metadata": {},
   "outputs": [
    {
     "name": "stdout",
     "output_type": "stream",
     "text": [
      "selection operation\n",
      "1.Add\n",
      "2.Subtract\n",
      "3.Multiply\n",
      "4.Divide\n",
      "Enter choice(1 / 2 / 3 / 4): 1\n",
      "Enter the first number: 552\n",
      "Enter the second number: 5524\n",
      "552.0 + 5524.0 = 6076.0\n",
      "Let do the calculation? (yes/no): yes\n"
     ]
    }
   ],
   "source": [
    "def add(x, y):\n",
    "    return x + y\n",
    "\n",
    "def subtract(x, y):\n",
    "    return x - y\n",
    "\n",
    "def multiply(x, y):\n",
    "    return x * y\n",
    "\n",
    "def divide(x, y):\n",
    "    return x / y\n",
    "\n",
    "print(\"selection operation\")\n",
    "print(\"1.Add\")\n",
    "print(\"2.Subtract\")\n",
    "print(\"3.Multiply\")\n",
    "print(\"4.Divide\")\n",
    "\n",
    "while(True):\n",
    "    choice = input(\"Enter choice(1 / 2 / 3 / 4): \")\n",
    "    \n",
    "    if choice in ('1', '2', '3', '4'):\n",
    "        try:\n",
    "            num1 = float(input(\"Enter the first number: \"))\n",
    "            num2 = float(input(\"Enter the second number: \"))\n",
    "        except ValueError:\n",
    "            print('Invalid input, Please enter a valid number')\n",
    "            continue\n",
    "        \n",
    "        if choice == '1':\n",
    "            print(num1,\"+\", num2,\"=\", add(num1, num2))\n",
    "        elif choice == '2':\n",
    "            print(num1,'-', num2, '=', subtract(num1, num2))\n",
    "        elif choice == '3':\n",
    "            print(num1,'*',num2,'=', multiply(num1, num2))\n",
    "        elif choice == '4':\n",
    "            print(num1,'/',num2,'=', divide(num1, num2))\n",
    "            \n",
    "        next_calculation = input(\"Let do the calculation? (yes/no): \")\n",
    "        if next_calculation == \"yes\":\n",
    "            break\n",
    "        else:\n",
    "            print(\"Invalid input\")"
   ]
  },
  {
   "cell_type": "code",
   "execution_count": null,
   "id": "b711a078",
   "metadata": {},
   "outputs": [],
   "source": []
  }
 ],
 "metadata": {
  "kernelspec": {
   "display_name": "Python 3 (ipykernel)",
   "language": "python",
   "name": "python3"
  },
  "language_info": {
   "codemirror_mode": {
    "name": "ipython",
    "version": 3
   },
   "file_extension": ".py",
   "mimetype": "text/x-python",
   "name": "python",
   "nbconvert_exporter": "python",
   "pygments_lexer": "ipython3",
   "version": "3.9.12"
  }
 },
 "nbformat": 4,
 "nbformat_minor": 5
}
