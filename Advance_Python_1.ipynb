{
 "cells": [
  {
   "cell_type": "markdown",
   "id": "de248567",
   "metadata": {},
   "source": [
    "## 1.Write a Python program to print \"Hello Python\"?"
   ]
  },
  {
   "cell_type": "code",
   "execution_count": 1,
   "id": "cbd6cd93",
   "metadata": {},
   "outputs": [
    {
     "name": "stdout",
     "output_type": "stream",
     "text": [
      "Hello Python\n"
     ]
    }
   ],
   "source": [
    "x = \"Hello Python\"\n",
    "print(x)"
   ]
  },
  {
   "cell_type": "markdown",
   "id": "62215f4f",
   "metadata": {},
   "source": [
    "## 2.Write a Python program to do arithmetical operations addition and division?"
   ]
  },
  {
   "cell_type": "code",
   "execution_count": 10,
   "id": "ed108090",
   "metadata": {},
   "outputs": [
    {
     "name": "stdout",
     "output_type": "stream",
     "text": [
      "addition= 28 , division= 9.333333333333334\n"
     ]
    }
   ],
   "source": [
    "X = 10\n",
    "Y = 15\n",
    "Z=3\n",
    "\n",
    "#using operators\n",
    "add = X+Y+Z\n",
    "div = add/Z\n",
    "\n",
    "print(\"addition=\",add,\",\", \"division=\",div)"
   ]
  },
  {
   "cell_type": "markdown",
   "id": "db6ec0c4",
   "metadata": {},
   "source": [
    "## 3.Write a Python program to find the area of a triangle?"
   ]
  },
  {
   "cell_type": "code",
   "execution_count": 12,
   "id": "9c177025",
   "metadata": {
    "scrolled": true
   },
   "outputs": [
    {
     "name": "stdout",
     "output_type": "stream",
     "text": [
      "The area of the triangle is 14.70\n"
     ]
    }
   ],
   "source": [
    "a = 5\n",
    "b = 6\n",
    "c = 7\n",
    "\n",
    "#calculate the semi-perimeter\n",
    "s = (a + b + c)/2\n",
    "\n",
    "#calculate the area\n",
    "area = (s*(s-a)*(s-b)*(s-c)) ** 0.5\n",
    "print('The area of the triangle is %0.2f' %area)"
   ]
  },
  {
   "cell_type": "markdown",
   "id": "fcedb727",
   "metadata": {},
   "source": [
    "## 4.Write a Python program to swap two variables?"
   ]
  },
  {
   "cell_type": "code",
   "execution_count": 13,
   "id": "cfb35662",
   "metadata": {},
   "outputs": [
    {
     "name": "stdout",
     "output_type": "stream",
     "text": [
      "The value of x after swapping: 10\n",
      "The value of y after swapping: 5\n"
     ]
    }
   ],
   "source": [
    "x = 5\n",
    "y = 10\n",
    "\n",
    "x,y = y,x\n",
    "\n",
    "print('The value of x after swapping: {}'.format(x))\n",
    "print('The value of y after swapping: {}'.format(y))"
   ]
  },
  {
   "cell_type": "markdown",
   "id": "12eea21a",
   "metadata": {},
   "source": [
    "## 5.Write a Python program to generate a random number?"
   ]
  },
  {
   "cell_type": "code",
   "execution_count": 16,
   "id": "f6456fcc",
   "metadata": {},
   "outputs": [
    {
     "name": "stdout",
     "output_type": "stream",
     "text": [
      "21\n"
     ]
    }
   ],
   "source": [
    "import random\n",
    "print(random.randint(0,50))"
   ]
  },
  {
   "cell_type": "code",
   "execution_count": null,
   "id": "6822ef3c",
   "metadata": {},
   "outputs": [],
   "source": []
  }
 ],
 "metadata": {
  "kernelspec": {
   "display_name": "Python 3 (ipykernel)",
   "language": "python",
   "name": "python3"
  },
  "language_info": {
   "codemirror_mode": {
    "name": "ipython",
    "version": 3
   },
   "file_extension": ".py",
   "mimetype": "text/x-python",
   "name": "python",
   "nbconvert_exporter": "python",
   "pygments_lexer": "ipython3",
   "version": "3.9.12"
  }
 },
 "nbformat": 4,
 "nbformat_minor": 5
}
