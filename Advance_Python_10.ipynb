{
 "cells": [
  {
   "cell_type": "markdown",
   "id": "78ddaa22",
   "metadata": {},
   "source": [
    "## 1.Write a Python program to find sum of elements in list?"
   ]
  },
  {
   "cell_type": "code",
   "execution_count": 1,
   "id": "d36cd8bb",
   "metadata": {},
   "outputs": [
    {
     "name": "stdout",
     "output_type": "stream",
     "text": [
      "Sum of all element in given list:  74\n"
     ]
    }
   ],
   "source": [
    "total = 0\n",
    "list1 = [11,5,17,18,23]\n",
    "\n",
    "for ele in range(0, len(list1)):\n",
    "    total = total + list1[ele]\n",
    "    \n",
    "print(\"Sum of all element in given list: \", total)"
   ]
  },
  {
   "cell_type": "markdown",
   "id": "a807a1b2",
   "metadata": {},
   "source": [
    "## 2.Write a Python program to Multiply all numbers in the list?"
   ]
  },
  {
   "cell_type": "code",
   "execution_count": 3,
   "id": "5ab0efb6",
   "metadata": {},
   "outputs": [
    {
     "name": "stdout",
     "output_type": "stream",
     "text": [
      "60\n",
      "24\n"
     ]
    }
   ],
   "source": [
    "def multiplylist(mylist):\n",
    "    result = 1\n",
    "    for x in mylist:\n",
    "        result = result * x\n",
    "    return result\n",
    "\n",
    "list1 = [5,3,4]\n",
    "list2 = [3,2,4]\n",
    "print(multiplylist(list1))\n",
    "print(multiplylist(list2))"
   ]
  },
  {
   "cell_type": "markdown",
   "id": "31a65556",
   "metadata": {},
   "source": [
    "## 3.Write a Python program to find smallest number in a list?"
   ]
  },
  {
   "cell_type": "code",
   "execution_count": 8,
   "id": "047cd18c",
   "metadata": {},
   "outputs": [
    {
     "name": "stdout",
     "output_type": "stream",
     "text": [
      "Smallest Number is: 4\n"
     ]
    }
   ],
   "source": [
    "list1 = [10,20,4,45,99]\n",
    "list1.sort()\n",
    "\n",
    "print(\"Smallest Number is:\", list1[0])"
   ]
  },
  {
   "cell_type": "markdown",
   "id": "c141d23e",
   "metadata": {},
   "source": [
    "## 4.Write a Python program to find largest number in a list?"
   ]
  },
  {
   "cell_type": "code",
   "execution_count": 7,
   "id": "12f19d86",
   "metadata": {},
   "outputs": [
    {
     "name": "stdout",
     "output_type": "stream",
     "text": [
      "Largest Number is:  99\n"
     ]
    }
   ],
   "source": [
    "list1 = [10,20,4,45,99]\n",
    "list1.sort()\n",
    "\n",
    "print(\"Largest Number is: \", list1[-1])"
   ]
  },
  {
   "cell_type": "markdown",
   "id": "0f78afdb",
   "metadata": {},
   "source": [
    "## 5.Write a Python program to find second largest number in a list?"
   ]
  },
  {
   "cell_type": "code",
   "execution_count": 9,
   "id": "4265fde3",
   "metadata": {},
   "outputs": [
    {
     "name": "stdout",
     "output_type": "stream",
     "text": [
      "Second largest number is:  45\n"
     ]
    }
   ],
   "source": [
    "list1 = [10,20,4,45,99]\n",
    "list1.sort()\n",
    "\n",
    "print(\"Second largest number is: \", list1[-2])"
   ]
  },
  {
   "cell_type": "markdown",
   "id": "68f9872c",
   "metadata": {},
   "source": [
    "## 6.Write a Python program to find N largest elements from a list?"
   ]
  },
  {
   "cell_type": "code",
   "execution_count": 10,
   "id": "67d390da",
   "metadata": {},
   "outputs": [
    {
     "name": "stdout",
     "output_type": "stream",
     "text": [
      "[85, 41]\n"
     ]
    }
   ],
   "source": [
    "def Nelement(list1,N):\n",
    "    final_list = []\n",
    "    \n",
    "    for i in range(0,N):\n",
    "        max1 = 0\n",
    "        \n",
    "        for j in range(len(list1)):\n",
    "            if list1[j] > max1:\n",
    "                max1 = list1[j]\n",
    "                \n",
    "        list1.remove(max1)\n",
    "        final_list.append(max1)\n",
    "    \n",
    "    print(final_list)\n",
    "    \n",
    "list1 = [2,6,41,85,0,3,4,7,6,10]\n",
    "N = 2\n",
    "Nelement(list1,N)"
   ]
  },
  {
   "cell_type": "markdown",
   "id": "ad0fa0d7",
   "metadata": {},
   "source": [
    "## 7.Write a Python program to print even numbers in a list?"
   ]
  },
  {
   "cell_type": "code",
   "execution_count": 11,
   "id": "85ce86e8",
   "metadata": {},
   "outputs": [
    {
     "name": "stdout",
     "output_type": "stream",
     "text": [
      "10 4 66 "
     ]
    }
   ],
   "source": [
    "list1 = [10,21,4,45,66,93]\n",
    "\n",
    "for num in list1:\n",
    "    if num % 2 == 0:\n",
    "        print(num, end= \" \")"
   ]
  },
  {
   "cell_type": "markdown",
   "id": "5edb7dee",
   "metadata": {},
   "source": [
    "## 8.Write a Python program to print odd numbers in a List?"
   ]
  },
  {
   "cell_type": "code",
   "execution_count": 12,
   "id": "8d1fec1f",
   "metadata": {},
   "outputs": [
    {
     "name": "stdout",
     "output_type": "stream",
     "text": [
      "21 45 93 "
     ]
    }
   ],
   "source": [
    "list1 = [10,21,4,45,66,93]\n",
    "\n",
    "for num in list1:\n",
    "    if num % 2 != 0:\n",
    "        print(num, end= \" \")"
   ]
  },
  {
   "cell_type": "markdown",
   "id": "26baaffe",
   "metadata": {},
   "source": [
    "## 9.Write a Python program to Remove empty List from List?"
   ]
  },
  {
   "cell_type": "code",
   "execution_count": 13,
   "id": "765d1635",
   "metadata": {},
   "outputs": [
    {
     "name": "stdout",
     "output_type": "stream",
     "text": [
      "The original list is:  [5, 6, [], 3, [], [], 9]\n",
      "List after empty list removal :  [5, 6, 3, 9]\n"
     ]
    }
   ],
   "source": [
    "test_list = [5,6,[],3,[],[],9]\n",
    "\n",
    "print(\"The original list is: \", str(test_list))\n",
    "\n",
    "res = [ele for ele in test_list if ele != []]\n",
    "print(\"List after empty list removal : \", str(res))"
   ]
  },
  {
   "cell_type": "markdown",
   "id": "d3db0984",
   "metadata": {},
   "source": [
    "## 10.Write a Python program to Cloning or Copying a list?"
   ]
  },
  {
   "cell_type": "code",
   "execution_count": 15,
   "id": "411ec1b2",
   "metadata": {},
   "outputs": [
    {
     "name": "stdout",
     "output_type": "stream",
     "text": [
      "Original list:  [4, 8, 2, 10, 15, 18]\n",
      "After cloning:  [4, 8, 2, 10, 15, 18]\n"
     ]
    }
   ],
   "source": [
    "def cloning(list1):\n",
    "    list_copy = list1[:]\n",
    "    return list_copy\n",
    "\n",
    "list1 = [4,8,2,10,15,18]\n",
    "list2 = cloning(list1)\n",
    "print(\"Original list: \", list1)\n",
    "print(\"After cloning: \", list2)"
   ]
  },
  {
   "cell_type": "markdown",
   "id": "44664fb3",
   "metadata": {},
   "source": [
    "## 11.Write a Python program to Count occurrences of an element in a list?"
   ]
  },
  {
   "cell_type": "code",
   "execution_count": 16,
   "id": "922a42d3",
   "metadata": {},
   "outputs": [
    {
     "name": "stdout",
     "output_type": "stream",
     "text": [
      "8 has occured 6 times\n"
     ]
    }
   ],
   "source": [
    "def countX(lst, x):\n",
    "    count = 0\n",
    "    for ele in lst:\n",
    "        if(ele == x):\n",
    "            count = count + 1\n",
    "    return count\n",
    "lst = [8,6,8,10,8,20,10,8,8,8]\n",
    "x = 8\n",
    "print(\"{} has occured {} times\".format(x,countX(lst,x)))"
   ]
  },
  {
   "cell_type": "code",
   "execution_count": null,
   "id": "3952a6cf",
   "metadata": {},
   "outputs": [],
   "source": []
  }
 ],
 "metadata": {
  "kernelspec": {
   "display_name": "Python 3 (ipykernel)",
   "language": "python",
   "name": "python3"
  },
  "language_info": {
   "codemirror_mode": {
    "name": "ipython",
    "version": 3
   },
   "file_extension": ".py",
   "mimetype": "text/x-python",
   "name": "python",
   "nbconvert_exporter": "python",
   "pygments_lexer": "ipython3",
   "version": "3.9.12"
  }
 },
 "nbformat": 4,
 "nbformat_minor": 5
}
