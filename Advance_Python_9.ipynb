{
 "cells": [
  {
   "cell_type": "markdown",
   "id": "f4b52a56",
   "metadata": {},
   "source": [
    "## 1.Write a Python program to check if the given number is a Disarium Number?"
   ]
  },
  {
   "cell_type": "code",
   "execution_count": 6,
   "id": "dd627bed",
   "metadata": {},
   "outputs": [
    {
     "name": "stdout",
     "output_type": "stream",
     "text": [
      "Enter a Disarium number: 175\n",
      "The sum of the digit =175\n",
      "\n",
      "175 is a Disarium Number:\n"
     ]
    }
   ],
   "source": [
    "number = int(input(\"Enter a Disarium number: \"))\n",
    "length = len(str(number))\n",
    "Temp = number\n",
    "Sum = 0\n",
    "rem = 0\n",
    "\n",
    "while Temp > 0:\n",
    "    rem = Temp % 10\n",
    "    Sum = Sum + int(rem**length)\n",
    "    Temp =Temp // 10\n",
    "    length = length - 1\n",
    "print(\"The sum of the digit =%d\" %Sum)\n",
    "if Sum == number:\n",
    "    print(\"\\n%d is a Disarium Number:\"%number)\n",
    "else:\n",
    "    print(\"%d is not a Disarium Number\"%number)"
   ]
  },
  {
   "cell_type": "markdown",
   "id": "704a4caa",
   "metadata": {},
   "source": [
    "## 2.Write a Python program to print all disarium numbers between 1 to 100?"
   ]
  },
  {
   "cell_type": "code",
   "execution_count": 7,
   "id": "c24338cb",
   "metadata": {},
   "outputs": [
    {
     "name": "stdout",
     "output_type": "stream",
     "text": [
      "The disarium numbers between 1 and 100 are : \n",
      "1\n",
      "2\n",
      "3\n",
      "4\n",
      "5\n",
      "6\n",
      "7\n",
      "8\n",
      "9\n",
      "89\n"
     ]
    }
   ],
   "source": [
    "def length_calculation(my_val):\n",
    "    len_val = 0\n",
    "    while(my_val != 0):\n",
    "        len_val = len_val + 1\n",
    "        my_val = my_val // 10\n",
    "    return len_val\n",
    "def digit_sum(my_num):\n",
    "    remaining = sum_val = 0\n",
    "    len_fun = length_calculation(my_num)\n",
    "    while(my_num > 0):\n",
    "        remaining = my_num%10\n",
    "        sum_val = sum_val + (remaining**len_fun)\n",
    "        my_num = my_num//10\n",
    "        len_fun = len_fun - 1\n",
    "    return sum_val\n",
    "ini_result = 0\n",
    "print(\"The disarium numbers between 1 and 100 are : \")\n",
    "for i in range(1,101):\n",
    "    ini_result = digit_sum(i)\n",
    "    if(ini_result == i):\n",
    "        print(i)"
   ]
  },
  {
   "cell_type": "markdown",
   "id": "e92b1341",
   "metadata": {},
   "source": [
    "## 3.Write a Python program to check if the given number is Happy Number?"
   ]
  },
  {
   "cell_type": "code",
   "execution_count": 10,
   "id": "66970475",
   "metadata": {},
   "outputs": [
    {
     "name": "stdout",
     "output_type": "stream",
     "text": [
      "82 is happy number\n"
     ]
    }
   ],
   "source": [
    "def isHappyNumber(num):\n",
    "    rem = sum = 0;\n",
    "    \n",
    "    while(num > 0):\n",
    "        rem = num%10;\n",
    "        sum = sum + (rem*rem)\n",
    "        num = num//10\n",
    "    return sum;\n",
    "\n",
    "num = 82;\n",
    "result = num;\n",
    "\n",
    "while(result != 1 and result != 4):\n",
    "    result = isHappyNumber(result);\n",
    "    \n",
    "if(result == 1):\n",
    "    print(str(num) + \" is happy number\");\n",
    "elif(result == 4):\n",
    "    print(str(num) + \" is not a happy number\")"
   ]
  },
  {
   "cell_type": "markdown",
   "id": "6818ff65",
   "metadata": {},
   "source": [
    "## 4.Write a Python program to print all happy numbers between 1 and 100?"
   ]
  },
  {
   "cell_type": "code",
   "execution_count": 11,
   "id": "210cca41",
   "metadata": {},
   "outputs": [
    {
     "name": "stdout",
     "output_type": "stream",
     "text": [
      "The list of my happy numbers between 1 and 100 are : \n",
      "7\n",
      "10\n",
      "13\n",
      "19\n",
      "23\n",
      "28\n",
      "31\n",
      "32\n",
      "44\n",
      "49\n",
      "68\n",
      "70\n",
      "79\n",
      "82\n",
      "86\n",
      "91\n",
      "94\n",
      "97\n",
      "100\n"
     ]
    }
   ],
   "source": [
    "def check_happy_num(my_num):\n",
    "    remaining = sum_val = 0\n",
    "    while(my_num > 0):\n",
    "        remaining = my_num%10\n",
    "        sum_val = sum_val + (remaining * remaining)\n",
    "        my_num = my_num // 10\n",
    "    return sum_val\n",
    "print(\"The list of my happy numbers between 1 and 100 are : \")\n",
    "for i in range(1,101):\n",
    "    my_result = i\n",
    "    while(my_result !=1 and my_result != 4):\n",
    "        my_result = check_happy_num(my_result)\n",
    "        if(my_result == 1):\n",
    "            print(i)"
   ]
  },
  {
   "cell_type": "markdown",
   "id": "9c3b7073",
   "metadata": {},
   "source": [
    "## 5.Write a Python program to determine whether the given number is a Harshad Number?"
   ]
  },
  {
   "cell_type": "code",
   "execution_count": 18,
   "id": "75291cc0",
   "metadata": {},
   "outputs": [
    {
     "name": "stdout",
     "output_type": "stream",
     "text": [
      "156  is a harshad number\n"
     ]
    }
   ],
   "source": [
    "num = 156\n",
    "rem = sum = 0\n",
    "\n",
    "n = num\n",
    "\n",
    "while(num > 0):\n",
    "    rem = num%10\n",
    "    sum = sum + rem\n",
    "    num = num//10\n",
    "    \n",
    "if(n%sum == 0):\n",
    "    print(str(n), \" is a harshad number\")\n",
    "else:\n",
    "    print(str(n),\" is not harshad number\")"
   ]
  },
  {
   "cell_type": "markdown",
   "id": "3d4173b0",
   "metadata": {},
   "source": [
    "## 6.Write a Python program to print all pronic numbers between 1 and 100?"
   ]
  },
  {
   "cell_type": "code",
   "execution_count": 19,
   "id": "822337b4",
   "metadata": {},
   "outputs": [
    {
     "name": "stdout",
     "output_type": "stream",
     "text": [
      "Pronic Numbers between 1 and 100\n",
      "2\n",
      " \n",
      "6\n",
      " \n",
      "12\n",
      " \n",
      "20\n",
      " \n",
      "30\n",
      " \n",
      "42\n",
      " \n",
      "56\n",
      " \n",
      "72\n",
      " \n",
      "90\n",
      " \n"
     ]
    }
   ],
   "source": [
    "def isPronicNumber(num):\n",
    "    flag = False\n",
    "    \n",
    "    for j in range(1, num + 1):\n",
    "        if((j*(j+1)) == num):\n",
    "            flag = True\n",
    "            break\n",
    "    return flag\n",
    "\n",
    "print(\"Pronic Numbers between 1 and 100\")\n",
    "for i in range(1,101):\n",
    "    if(isPronicNumber(i)):\n",
    "        print(i)\n",
    "        print(\" \")"
   ]
  },
  {
   "cell_type": "code",
   "execution_count": null,
   "id": "d91de6e0",
   "metadata": {},
   "outputs": [],
   "source": []
  }
 ],
 "metadata": {
  "kernelspec": {
   "display_name": "Python 3 (ipykernel)",
   "language": "python",
   "name": "python3"
  },
  "language_info": {
   "codemirror_mode": {
    "name": "ipython",
    "version": 3
   },
   "file_extension": ".py",
   "mimetype": "text/x-python",
   "name": "python",
   "nbconvert_exporter": "python",
   "pygments_lexer": "ipython3",
   "version": "3.9.12"
  }
 },
 "nbformat": 4,
 "nbformat_minor": 5
}
