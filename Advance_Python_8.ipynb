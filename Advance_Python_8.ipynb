{
 "cells": [
  {
   "cell_type": "markdown",
   "id": "fdd95c33",
   "metadata": {},
   "source": [
    "## 1.Write a Python Program to Add Two Matrices?"
   ]
  },
  {
   "cell_type": "code",
   "execution_count": 2,
   "id": "dd3b86d0",
   "metadata": {},
   "outputs": [
    {
     "name": "stdout",
     "output_type": "stream",
     "text": [
      "[27, 17, 26]\n",
      "[15, 19, 12]\n",
      "[10, 12, 15]\n"
     ]
    }
   ],
   "source": [
    "x = [[12,5,6],\n",
    "    [7,8,2],\n",
    "    [1,5,9]]\n",
    "\n",
    "y = [[15,12,20],\n",
    "    [8,11,10],\n",
    "    [9,7,6]]\n",
    "\n",
    "result = [[0,0,0],\n",
    "         [0,0,0],\n",
    "         [0,0,0]]\n",
    "\n",
    "for i in range(len(x)):\n",
    "    for j in range(len(x[0])):\n",
    "        result [i][j] = x[i][j] + y[i][j]\n",
    "        \n",
    "for r in result:\n",
    "    print(r)"
   ]
  },
  {
   "cell_type": "markdown",
   "id": "8480c848",
   "metadata": {},
   "source": [
    "## 2.Write a Python Program to Multiply Two Matrices?"
   ]
  },
  {
   "cell_type": "code",
   "execution_count": 7,
   "id": "f08b3c58",
   "metadata": {},
   "outputs": [
    {
     "name": "stdout",
     "output_type": "stream",
     "text": [
      "[119, 119, 119, 119]\n",
      "[77, 77, 77, 77]\n",
      "[149, 149, 149, 149]\n"
     ]
    }
   ],
   "source": [
    "# 3x3 matrix\n",
    "X = [[12,7,3],\n",
    "    [4 ,5,6],\n",
    "    [7 ,8,9]]\n",
    "# 3x4 matrix\n",
    "Y = [[5,8,1,2],\n",
    "    [6,7,3,0],\n",
    "    [4,5,9,1]]\n",
    "# result is 3x4\n",
    "result = [[0,0,0,0],\n",
    "         [0,0,0,0],\n",
    "         [0,0,0,0]]\n",
    "\n",
    "for i in range(len(X)):\n",
    "    for j in range(len(Y[0])):\n",
    "        for k in range(len(Y)):\n",
    "            result[i][j] += X[i][k] * Y[i][k]\n",
    "        \n",
    "for r in result:\n",
    "    print(r)"
   ]
  },
  {
   "cell_type": "markdown",
   "id": "4b2d3781",
   "metadata": {},
   "source": [
    "## 3.Write a Python Program to Transpose a Matrix?"
   ]
  },
  {
   "cell_type": "code",
   "execution_count": 9,
   "id": "486bb4f6",
   "metadata": {},
   "outputs": [
    {
     "name": "stdout",
     "output_type": "stream",
     "text": [
      "[12, 4, 3]\n",
      "[7, 5, 8]\n"
     ]
    }
   ],
   "source": [
    "X = [[12,7],\n",
    "    [4 ,5],\n",
    "    [3 ,8]]\n",
    "\n",
    "result = [[0,0,0],\n",
    "         [0,0,0]]\n",
    "\n",
    "for i in range(len(X)):\n",
    "    for j in range(len(X[0])):\n",
    "        result[j][i] = X[i][j]\n",
    "        \n",
    "for r in result:\n",
    "    print(r)"
   ]
  },
  {
   "cell_type": "markdown",
   "id": "ba0fa2e9",
   "metadata": {},
   "source": [
    "## 4.Write a Python Program to Sort Words in Alphabetic Order?"
   ]
  },
  {
   "cell_type": "code",
   "execution_count": 11,
   "id": "238b248c",
   "metadata": {},
   "outputs": [
    {
     "name": "stdout",
     "output_type": "stream",
     "text": [
      "Enter a string: Now I am confused about my duty and have lost all composure because of weakness. In this condition I am asking You to tell me clearly what is best for me. Now I am Your disciple, and a soul surrendered unto You\n",
      "The sort words are:\n",
      "a\n",
      "about\n",
      "all\n",
      "am\n",
      "am\n",
      "am\n",
      "and\n",
      "and\n",
      "asking\n",
      "because\n",
      "best\n",
      "clearly\n",
      "composure\n",
      "condition\n",
      "confused\n",
      "disciple,\n",
      "duty\n",
      "for\n",
      "have\n",
      "i\n",
      "i\n",
      "i\n",
      "in\n",
      "is\n",
      "lost\n",
      "me\n",
      "me.\n",
      "my\n",
      "now\n",
      "now\n",
      "of\n",
      "soul\n",
      "surrendered\n",
      "tell\n",
      "this\n",
      "to\n",
      "unto\n",
      "weakness.\n",
      "what\n",
      "you\n",
      "you\n",
      "your\n"
     ]
    }
   ],
   "source": [
    "my_str = input(\"Enter a string: \")\n",
    "\n",
    "words = [word.lower() for word in my_str.split()]\n",
    "\n",
    "words.sort()\n",
    "\n",
    "print(\"The sort words are:\")\n",
    "for word in words:\n",
    "    print(word)"
   ]
  },
  {
   "cell_type": "markdown",
   "id": "a2c1d8d5",
   "metadata": {},
   "source": [
    "## 5.Write a Python Program to Remove Punctuation From a String?"
   ]
  },
  {
   "cell_type": "code",
   "execution_count": 14,
   "id": "97c4e065",
   "metadata": {},
   "outputs": [
    {
     "name": "stdout",
     "output_type": "stream",
     "text": [
      "Enter a string: Hello!!!, he said ---and went\n",
      " Hello he said and went\n"
     ]
    }
   ],
   "source": [
    "my_str = input(\"Enter a string: \")\n",
    "punctuations = '''!()-[]{};:'\"\\,<>./?@#$%^&*_~'''\n",
    "no_punct = \" \"\n",
    "\n",
    "for char in my_str:\n",
    "    if char not in punctuations:\n",
    "        no_punct = no_punct + char\n",
    "        \n",
    "print(no_punct)"
   ]
  },
  {
   "cell_type": "code",
   "execution_count": null,
   "id": "5da6fbb1",
   "metadata": {},
   "outputs": [],
   "source": []
  }
 ],
 "metadata": {
  "kernelspec": {
   "display_name": "Python 3 (ipykernel)",
   "language": "python",
   "name": "python3"
  },
  "language_info": {
   "codemirror_mode": {
    "name": "ipython",
    "version": 3
   },
   "file_extension": ".py",
   "mimetype": "text/x-python",
   "name": "python",
   "nbconvert_exporter": "python",
   "pygments_lexer": "ipython3",
   "version": "3.9.12"
  }
 },
 "nbformat": 4,
 "nbformat_minor": 5
}
