{
 "cells": [
  {
   "cell_type": "markdown",
   "id": "abf7ba7c",
   "metadata": {},
   "source": [
    "## 1.Write a Python Program to Display Fibonacci Sequence Using Recursion?"
   ]
  },
  {
   "cell_type": "code",
   "execution_count": 1,
   "id": "d4f054f2",
   "metadata": {},
   "outputs": [
    {
     "name": "stdout",
     "output_type": "stream",
     "text": [
      "Fibonacci Sewuence\n",
      "0\n",
      "1\n",
      "1\n",
      "2\n",
      "3\n",
      "5\n",
      "8\n",
      "13\n",
      "21\n",
      "34\n"
     ]
    }
   ],
   "source": [
    "def recur_fibo(n):\n",
    "    if n <= 1:\n",
    "        return n\n",
    "    else:\n",
    "        return(recur_fibo(n - 1) + recur_fibo(n - 2))\n",
    "    \n",
    "nterms = 10\n",
    "\n",
    "if nterms <= 0:\n",
    "    print(\"Please enter a positive integer\")\n",
    "else:\n",
    "    print(\"Fibonacci Sewuence\")\n",
    "    for i in range(nterms):\n",
    "        print(recur_fibo(i))"
   ]
  },
  {
   "cell_type": "markdown",
   "id": "c517c4e4",
   "metadata": {},
   "source": [
    "## 2.Write a Python Program to Find Factorial of Number Using Recursion?"
   ]
  },
  {
   "cell_type": "code",
   "execution_count": 2,
   "id": "cde17745",
   "metadata": {},
   "outputs": [
    {
     "name": "stdout",
     "output_type": "stream",
     "text": [
      "The factorial of 7 is 5040\n"
     ]
    }
   ],
   "source": [
    "def recur_factorial(n):\n",
    "    if n <= 1:\n",
    "        return n\n",
    "    else:\n",
    "        return n*recur_factorial(n-1)\n",
    "    \n",
    "num = 7\n",
    "\n",
    "if num < 0:\n",
    "    print(\"Sorry, factorial does not exist for negative number \")\n",
    "elif num == 0:\n",
    "    print(\"The factorial of 0 is 1\")\n",
    "else:\n",
    "    print(\"The factorial of\", num, \"is\",recur_factorial(num))"
   ]
  },
  {
   "cell_type": "markdown",
   "id": "a110f164",
   "metadata": {},
   "source": [
    "## 3.Write a Python Program to calculate your Body Mass Index?"
   ]
  },
  {
   "cell_type": "code",
   "execution_count": 3,
   "id": "375d35f5",
   "metadata": {},
   "outputs": [
    {
     "name": "stdout",
     "output_type": "stream",
     "text": [
      "Enter your height(m): 168\n",
      "Enter your weight(kg): 59\n",
      "Your Body Mass Index is 0.01\n"
     ]
    }
   ],
   "source": [
    "height = float(input(\"Enter your height(m): \"))\n",
    "weight = float(input(\"Enter your weight(kg): \"))\n",
    "\n",
    "print(\"Your Body Mass Index is\", round(weight/(weight*height),2))"
   ]
  },
  {
   "cell_type": "markdown",
   "id": "062e8e25",
   "metadata": {},
   "source": [
    "## 4.Write a Python Program to calculate the natural logarithm of any number?"
   ]
  },
  {
   "cell_type": "code",
   "execution_count": 4,
   "id": "4c0408b8",
   "metadata": {},
   "outputs": [
    {
     "name": "stdout",
     "output_type": "stream",
     "text": [
      "1.0\n",
      "0.0\n",
      "2.302585092994046\n"
     ]
    }
   ],
   "source": [
    "import numpy as np\n",
    "import math\n",
    "\n",
    "print(np.log(math.e))\n",
    "print(np.log(1))\n",
    "print(np.log(10))"
   ]
  },
  {
   "cell_type": "markdown",
   "id": "151bc434",
   "metadata": {},
   "source": [
    "## 5.Write a Python Program for cube sum of first n natural numbers?"
   ]
  },
  {
   "cell_type": "code",
   "execution_count": 10,
   "id": "48321bb2",
   "metadata": {},
   "outputs": [
    {
     "name": "stdout",
     "output_type": "stream",
     "text": [
      "36\n"
     ]
    }
   ],
   "source": [
    "def sumOfSeries(n):\n",
    "    sum = 0\n",
    "    for i in range(1, n+1):\n",
    "        sum +=i*i*i\n",
    "    return sum\n",
    "\n",
    "n = 3\n",
    "print(sumOfSeries(n))"
   ]
  },
  {
   "cell_type": "code",
   "execution_count": null,
   "id": "e0113890",
   "metadata": {},
   "outputs": [],
   "source": []
  }
 ],
 "metadata": {
  "kernelspec": {
   "display_name": "Python 3 (ipykernel)",
   "language": "python",
   "name": "python3"
  },
  "language_info": {
   "codemirror_mode": {
    "name": "ipython",
    "version": 3
   },
   "file_extension": ".py",
   "mimetype": "text/x-python",
   "name": "python",
   "nbconvert_exporter": "python",
   "pygments_lexer": "ipython3",
   "version": "3.9.12"
  }
 },
 "nbformat": 4,
 "nbformat_minor": 5
}
